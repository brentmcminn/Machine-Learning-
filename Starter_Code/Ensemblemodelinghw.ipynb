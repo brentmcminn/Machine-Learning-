{
 "cells": [
  {
   "cell_type": "code",
   "execution_count": null,
   "metadata": {},
   "outputs": [],
   "source": [
    "import warnings\n",
    "warnings.filterwarnings('ignore')"
   ]
  },
  {
   "cell_type": "code",
   "execution_count": 77,
   "metadata": {},
   "outputs": [],
   "source": [
    "import numpy as np\n",
    "import pandas as pd\n",
    "from pathlib import Path\n",
    "from collections import Counter"
   ]
  },
  {
   "cell_type": "code",
   "execution_count": null,
   "metadata": {},
   "outputs": [],
   "source": []
  },
  {
   "cell_type": "code",
   "execution_count": 78,
   "metadata": {},
   "outputs": [],
   "source": [
    "from sklearn.metrics import balanced_accuracy_score\n",
    "from sklearn.metrics import confusion_matrix\n",
    "from imblearn.metrics import classification_report_imbalanced"
   ]
  },
  {
   "cell_type": "markdown",
   "metadata": {},
   "source": [
    "### Read the CSV and Perform Basic Data Cleaning "
   ]
  },
  {
   "cell_type": "code",
   "execution_count": 79,
   "metadata": {},
   "outputs": [],
   "source": [
    "# https://help.lendingclub.com/hc/en-us/articles/215488038-What-do-the-different-Note-statuses-mean-\n",
    "\n",
    "columns = [\n",
    "    \"loan_amnt\", \"int_rate\", \"installment\", \"home_ownership\",\n",
    "    \"annual_inc\", \"verification_status\", \"issue_d\", \"loan_status\",\n",
    "    \"pymnt_plan\", \"dti\", \"delinq_2yrs\", \"inq_last_6mths\",\n",
    "    \"open_acc\", \"pub_rec\", \"revol_bal\", \"total_acc\",\n",
    "    \"initial_list_status\", \"out_prncp\", \"out_prncp_inv\", \"total_pymnt\",\n",
    "    \"total_pymnt_inv\", \"total_rec_prncp\", \"total_rec_int\", \"total_rec_late_fee\",\n",
    "    \"recoveries\", \"collection_recovery_fee\", \"last_pymnt_amnt\", \"next_pymnt_d\",\n",
    "    \"collections_12_mths_ex_med\", \"policy_code\", \"application_type\", \"acc_now_delinq\",\n",
    "    \"tot_coll_amt\", \"tot_cur_bal\", \"open_acc_6m\", \"open_act_il\",\n",
    "    \"open_il_12m\", \"open_il_24m\", \"mths_since_rcnt_il\", \"total_bal_il\",\n",
    "    \"il_util\", \"open_rv_12m\", \"open_rv_24m\", \"max_bal_bc\",\n",
    "    \"all_util\", \"total_rev_hi_lim\", \"inq_fi\", \"total_cu_tl\",\n",
    "    \"inq_last_12m\", \"acc_open_past_24mths\", \"avg_cur_bal\", \"bc_open_to_buy\",\n",
    "    \"bc_util\", \"chargeoff_within_12_mths\", \"delinq_amnt\", \"mo_sin_old_il_acct\",\n",
    "    \"mo_sin_old_rev_tl_op\", \"mo_sin_rcnt_rev_tl_op\", \"mo_sin_rcnt_tl\", \"mort_acc\",\n",
    "    \"mths_since_recent_bc\", \"mths_since_recent_inq\", \"num_accts_ever_120_pd\", \"num_actv_bc_tl\",\n",
    "    \"num_actv_rev_tl\", \"num_bc_sats\", \"num_bc_tl\", \"num_il_tl\",\n",
    "    \"num_op_rev_tl\", \"num_rev_accts\", \"num_rev_tl_bal_gt_0\",\n",
    "    \"num_sats\", \"num_tl_120dpd_2m\", \"num_tl_30dpd\", \"num_tl_90g_dpd_24m\",\n",
    "    \"num_tl_op_past_12m\", \"pct_tl_nvr_dlq\", \"percent_bc_gt_75\", \"pub_rec_bankruptcies\",\n",
    "    \"tax_liens\", \"tot_hi_cred_lim\", \"total_bal_ex_mort\", \"total_bc_limit\",\n",
    "    \"total_il_high_credit_limit\", \"hardship_flag\", \"debt_settlement_flag\"\n",
    "]\n",
    "\n",
    "target = [\"loan_status\"]"
   ]
  },
  {
   "cell_type": "code",
   "execution_count": 80,
   "metadata": {},
   "outputs": [
    {
     "data": {
      "text/html": [
       "<div>\n",
       "<style scoped>\n",
       "    .dataframe tbody tr th:only-of-type {\n",
       "        vertical-align: middle;\n",
       "    }\n",
       "\n",
       "    .dataframe tbody tr th {\n",
       "        vertical-align: top;\n",
       "    }\n",
       "\n",
       "    .dataframe thead th {\n",
       "        text-align: right;\n",
       "    }\n",
       "</style>\n",
       "<table border=\"1\" class=\"dataframe\">\n",
       "  <thead>\n",
       "    <tr style=\"text-align: right;\">\n",
       "      <th></th>\n",
       "      <th>loan_amnt</th>\n",
       "      <th>int_rate</th>\n",
       "      <th>installment</th>\n",
       "      <th>home_ownership</th>\n",
       "      <th>annual_inc</th>\n",
       "      <th>verification_status</th>\n",
       "      <th>issue_d</th>\n",
       "      <th>loan_status</th>\n",
       "      <th>pymnt_plan</th>\n",
       "      <th>dti</th>\n",
       "      <th>...</th>\n",
       "      <th>pct_tl_nvr_dlq</th>\n",
       "      <th>percent_bc_gt_75</th>\n",
       "      <th>pub_rec_bankruptcies</th>\n",
       "      <th>tax_liens</th>\n",
       "      <th>tot_hi_cred_lim</th>\n",
       "      <th>total_bal_ex_mort</th>\n",
       "      <th>total_bc_limit</th>\n",
       "      <th>total_il_high_credit_limit</th>\n",
       "      <th>hardship_flag</th>\n",
       "      <th>debt_settlement_flag</th>\n",
       "    </tr>\n",
       "  </thead>\n",
       "  <tbody>\n",
       "    <tr>\n",
       "      <th>115670</th>\n",
       "      <td>5000.0</td>\n",
       "      <td>13.56%</td>\n",
       "      <td>169.83</td>\n",
       "      <td>MORTGAGE</td>\n",
       "      <td>48000.0</td>\n",
       "      <td>Not Verified</td>\n",
       "      <td>Jan-2019</td>\n",
       "      <td>Current</td>\n",
       "      <td>n</td>\n",
       "      <td>8.28</td>\n",
       "      <td>...</td>\n",
       "      <td>90.5</td>\n",
       "      <td>NaN</td>\n",
       "      <td>0.0</td>\n",
       "      <td>0.0</td>\n",
       "      <td>88613.0</td>\n",
       "      <td>9182.0</td>\n",
       "      <td>0.0</td>\n",
       "      <td>11413.0</td>\n",
       "      <td>N</td>\n",
       "      <td>N</td>\n",
       "    </tr>\n",
       "    <tr>\n",
       "      <th>115671</th>\n",
       "      <td>6000.0</td>\n",
       "      <td>6.46%</td>\n",
       "      <td>183.79</td>\n",
       "      <td>MORTGAGE</td>\n",
       "      <td>96000.0</td>\n",
       "      <td>Not Verified</td>\n",
       "      <td>Jan-2019</td>\n",
       "      <td>Current</td>\n",
       "      <td>n</td>\n",
       "      <td>0.31</td>\n",
       "      <td>...</td>\n",
       "      <td>100.0</td>\n",
       "      <td>0.0</td>\n",
       "      <td>1.0</td>\n",
       "      <td>0.0</td>\n",
       "      <td>33500.0</td>\n",
       "      <td>50.0</td>\n",
       "      <td>14900.0</td>\n",
       "      <td>0.0</td>\n",
       "      <td>N</td>\n",
       "      <td>N</td>\n",
       "    </tr>\n",
       "    <tr>\n",
       "      <th>115672</th>\n",
       "      <td>16000.0</td>\n",
       "      <td>16.14%</td>\n",
       "      <td>563.62</td>\n",
       "      <td>MORTGAGE</td>\n",
       "      <td>32000.0</td>\n",
       "      <td>Source Verified</td>\n",
       "      <td>Jan-2019</td>\n",
       "      <td>Current</td>\n",
       "      <td>n</td>\n",
       "      <td>20.89</td>\n",
       "      <td>...</td>\n",
       "      <td>93.3</td>\n",
       "      <td>37.5</td>\n",
       "      <td>1.0</td>\n",
       "      <td>0.0</td>\n",
       "      <td>34200.0</td>\n",
       "      <td>17066.0</td>\n",
       "      <td>16400.0</td>\n",
       "      <td>0.0</td>\n",
       "      <td>N</td>\n",
       "      <td>N</td>\n",
       "    </tr>\n",
       "    <tr>\n",
       "      <th>115673</th>\n",
       "      <td>16000.0</td>\n",
       "      <td>11.31%</td>\n",
       "      <td>350.36</td>\n",
       "      <td>MORTGAGE</td>\n",
       "      <td>72000.0</td>\n",
       "      <td>Verified</td>\n",
       "      <td>Jan-2019</td>\n",
       "      <td>Current</td>\n",
       "      <td>n</td>\n",
       "      <td>7.02</td>\n",
       "      <td>...</td>\n",
       "      <td>94.3</td>\n",
       "      <td>0.0</td>\n",
       "      <td>1.0</td>\n",
       "      <td>0.0</td>\n",
       "      <td>251486.0</td>\n",
       "      <td>74835.0</td>\n",
       "      <td>23000.0</td>\n",
       "      <td>63090.0</td>\n",
       "      <td>N</td>\n",
       "      <td>N</td>\n",
       "    </tr>\n",
       "    <tr>\n",
       "      <th>115674</th>\n",
       "      <td>29250.0</td>\n",
       "      <td>18.94%</td>\n",
       "      <td>757.80</td>\n",
       "      <td>MORTGAGE</td>\n",
       "      <td>65000.0</td>\n",
       "      <td>Verified</td>\n",
       "      <td>Jan-2019</td>\n",
       "      <td>Current</td>\n",
       "      <td>n</td>\n",
       "      <td>29.52</td>\n",
       "      <td>...</td>\n",
       "      <td>100.0</td>\n",
       "      <td>76.9</td>\n",
       "      <td>0.0</td>\n",
       "      <td>0.0</td>\n",
       "      <td>237833.0</td>\n",
       "      <td>58788.0</td>\n",
       "      <td>38800.0</td>\n",
       "      <td>25728.0</td>\n",
       "      <td>N</td>\n",
       "      <td>N</td>\n",
       "    </tr>\n",
       "  </tbody>\n",
       "</table>\n",
       "<p>5 rows × 86 columns</p>\n",
       "</div>"
      ],
      "text/plain": [
       "        loan_amnt int_rate  installment home_ownership  annual_inc  \\\n",
       "115670     5000.0   13.56%       169.83       MORTGAGE     48000.0   \n",
       "115671     6000.0    6.46%       183.79       MORTGAGE     96000.0   \n",
       "115672    16000.0   16.14%       563.62       MORTGAGE     32000.0   \n",
       "115673    16000.0   11.31%       350.36       MORTGAGE     72000.0   \n",
       "115674    29250.0   18.94%       757.80       MORTGAGE     65000.0   \n",
       "\n",
       "       verification_status   issue_d loan_status pymnt_plan    dti  ...  \\\n",
       "115670        Not Verified  Jan-2019     Current          n   8.28  ...   \n",
       "115671        Not Verified  Jan-2019     Current          n   0.31  ...   \n",
       "115672     Source Verified  Jan-2019     Current          n  20.89  ...   \n",
       "115673            Verified  Jan-2019     Current          n   7.02  ...   \n",
       "115674            Verified  Jan-2019     Current          n  29.52  ...   \n",
       "\n",
       "        pct_tl_nvr_dlq  percent_bc_gt_75  pub_rec_bankruptcies  tax_liens  \\\n",
       "115670            90.5               NaN                   0.0        0.0   \n",
       "115671           100.0               0.0                   1.0        0.0   \n",
       "115672            93.3              37.5                   1.0        0.0   \n",
       "115673            94.3               0.0                   1.0        0.0   \n",
       "115674           100.0              76.9                   0.0        0.0   \n",
       "\n",
       "        tot_hi_cred_lim  total_bal_ex_mort total_bc_limit  \\\n",
       "115670          88613.0             9182.0            0.0   \n",
       "115671          33500.0               50.0        14900.0   \n",
       "115672          34200.0            17066.0        16400.0   \n",
       "115673         251486.0            74835.0        23000.0   \n",
       "115674         237833.0            58788.0        38800.0   \n",
       "\n",
       "        total_il_high_credit_limit  hardship_flag  debt_settlement_flag  \n",
       "115670                     11413.0              N                     N  \n",
       "115671                         0.0              N                     N  \n",
       "115672                         0.0              N                     N  \n",
       "115673                     63090.0              N                     N  \n",
       "115674                     25728.0              N                     N  \n",
       "\n",
       "[5 rows x 86 columns]"
      ]
     },
     "execution_count": 80,
     "metadata": {},
     "output_type": "execute_result"
    }
   ],
   "source": [
    "# Load the data\n",
    "file_path = Path('../Resources/LoanStats_2019Q1.csv.zip')\n",
    "df = pd.read_csv(file_path, skiprows=1)[:-2]\n",
    "df = df.loc[:, columns].copy()\n",
    "\n",
    "df.tail(5)"
   ]
  },
  {
   "cell_type": "code",
   "execution_count": 81,
   "metadata": {},
   "outputs": [],
   "source": [
    "# Drop the null columns where all values are null\n",
    "df = df.dropna(axis='columns', how='all')\n",
    "\n",
    "df = df.dropna()"
   ]
  },
  {
   "cell_type": "code",
   "execution_count": 82,
   "metadata": {},
   "outputs": [],
   "source": [
    "# Remove the `Issued` loan status\n",
    "issued_mask = df['loan_status'] != 'Issued'\n",
    "#keeps it as current only and got rid of issued \n",
    "df = df.loc[issued_mask]\n",
    "\n",
    "#convert interest rate to numerical \n",
    "\n",
    "df['int_rate'] = df['int_rate'].str.replace('%', '')\n",
    "df['int_rate'] = df['int_rate'].astype('float') / 100"
   ]
  },
  {
   "cell_type": "code",
   "execution_count": 83,
   "metadata": {},
   "outputs": [
    {
     "data": {
      "text/html": [
       "<div>\n",
       "<style scoped>\n",
       "    .dataframe tbody tr th:only-of-type {\n",
       "        vertical-align: middle;\n",
       "    }\n",
       "\n",
       "    .dataframe tbody tr th {\n",
       "        vertical-align: top;\n",
       "    }\n",
       "\n",
       "    .dataframe thead th {\n",
       "        text-align: right;\n",
       "    }\n",
       "</style>\n",
       "<table border=\"1\" class=\"dataframe\">\n",
       "  <thead>\n",
       "    <tr style=\"text-align: right;\">\n",
       "      <th></th>\n",
       "      <th>loan_amnt</th>\n",
       "      <th>int_rate</th>\n",
       "      <th>installment</th>\n",
       "      <th>home_ownership</th>\n",
       "      <th>annual_inc</th>\n",
       "      <th>verification_status</th>\n",
       "      <th>issue_d</th>\n",
       "      <th>loan_status</th>\n",
       "      <th>pymnt_plan</th>\n",
       "      <th>dti</th>\n",
       "      <th>...</th>\n",
       "      <th>pct_tl_nvr_dlq</th>\n",
       "      <th>percent_bc_gt_75</th>\n",
       "      <th>pub_rec_bankruptcies</th>\n",
       "      <th>tax_liens</th>\n",
       "      <th>tot_hi_cred_lim</th>\n",
       "      <th>total_bal_ex_mort</th>\n",
       "      <th>total_bc_limit</th>\n",
       "      <th>total_il_high_credit_limit</th>\n",
       "      <th>hardship_flag</th>\n",
       "      <th>debt_settlement_flag</th>\n",
       "    </tr>\n",
       "  </thead>\n",
       "  <tbody>\n",
       "    <tr>\n",
       "      <th>0</th>\n",
       "      <td>10500.0</td>\n",
       "      <td>0.1719</td>\n",
       "      <td>375.35</td>\n",
       "      <td>RENT</td>\n",
       "      <td>66000.0</td>\n",
       "      <td>Source Verified</td>\n",
       "      <td>Mar-2019</td>\n",
       "      <td>low_risk</td>\n",
       "      <td>n</td>\n",
       "      <td>27.24</td>\n",
       "      <td>...</td>\n",
       "      <td>85.7</td>\n",
       "      <td>100.0</td>\n",
       "      <td>0.0</td>\n",
       "      <td>0.0</td>\n",
       "      <td>65687.0</td>\n",
       "      <td>38199.0</td>\n",
       "      <td>2000.0</td>\n",
       "      <td>61987.0</td>\n",
       "      <td>N</td>\n",
       "      <td>N</td>\n",
       "    </tr>\n",
       "    <tr>\n",
       "      <th>1</th>\n",
       "      <td>25000.0</td>\n",
       "      <td>0.2000</td>\n",
       "      <td>929.09</td>\n",
       "      <td>MORTGAGE</td>\n",
       "      <td>105000.0</td>\n",
       "      <td>Verified</td>\n",
       "      <td>Mar-2019</td>\n",
       "      <td>low_risk</td>\n",
       "      <td>n</td>\n",
       "      <td>20.23</td>\n",
       "      <td>...</td>\n",
       "      <td>91.2</td>\n",
       "      <td>50.0</td>\n",
       "      <td>1.0</td>\n",
       "      <td>0.0</td>\n",
       "      <td>271427.0</td>\n",
       "      <td>60641.0</td>\n",
       "      <td>41200.0</td>\n",
       "      <td>49197.0</td>\n",
       "      <td>N</td>\n",
       "      <td>N</td>\n",
       "    </tr>\n",
       "    <tr>\n",
       "      <th>2</th>\n",
       "      <td>20000.0</td>\n",
       "      <td>0.2000</td>\n",
       "      <td>529.88</td>\n",
       "      <td>MORTGAGE</td>\n",
       "      <td>56000.0</td>\n",
       "      <td>Verified</td>\n",
       "      <td>Mar-2019</td>\n",
       "      <td>low_risk</td>\n",
       "      <td>n</td>\n",
       "      <td>24.26</td>\n",
       "      <td>...</td>\n",
       "      <td>66.7</td>\n",
       "      <td>50.0</td>\n",
       "      <td>0.0</td>\n",
       "      <td>0.0</td>\n",
       "      <td>60644.0</td>\n",
       "      <td>45684.0</td>\n",
       "      <td>7500.0</td>\n",
       "      <td>43144.0</td>\n",
       "      <td>N</td>\n",
       "      <td>N</td>\n",
       "    </tr>\n",
       "    <tr>\n",
       "      <th>3</th>\n",
       "      <td>10000.0</td>\n",
       "      <td>0.1640</td>\n",
       "      <td>353.55</td>\n",
       "      <td>RENT</td>\n",
       "      <td>92000.0</td>\n",
       "      <td>Verified</td>\n",
       "      <td>Mar-2019</td>\n",
       "      <td>low_risk</td>\n",
       "      <td>n</td>\n",
       "      <td>31.44</td>\n",
       "      <td>...</td>\n",
       "      <td>100.0</td>\n",
       "      <td>50.0</td>\n",
       "      <td>1.0</td>\n",
       "      <td>0.0</td>\n",
       "      <td>99506.0</td>\n",
       "      <td>68784.0</td>\n",
       "      <td>19700.0</td>\n",
       "      <td>76506.0</td>\n",
       "      <td>N</td>\n",
       "      <td>N</td>\n",
       "    </tr>\n",
       "    <tr>\n",
       "      <th>4</th>\n",
       "      <td>22000.0</td>\n",
       "      <td>0.1474</td>\n",
       "      <td>520.39</td>\n",
       "      <td>MORTGAGE</td>\n",
       "      <td>52000.0</td>\n",
       "      <td>Not Verified</td>\n",
       "      <td>Mar-2019</td>\n",
       "      <td>low_risk</td>\n",
       "      <td>n</td>\n",
       "      <td>18.76</td>\n",
       "      <td>...</td>\n",
       "      <td>100.0</td>\n",
       "      <td>0.0</td>\n",
       "      <td>0.0</td>\n",
       "      <td>0.0</td>\n",
       "      <td>219750.0</td>\n",
       "      <td>25919.0</td>\n",
       "      <td>27600.0</td>\n",
       "      <td>20000.0</td>\n",
       "      <td>N</td>\n",
       "      <td>N</td>\n",
       "    </tr>\n",
       "  </tbody>\n",
       "</table>\n",
       "<p>5 rows × 86 columns</p>\n",
       "</div>"
      ],
      "text/plain": [
       "   loan_amnt  int_rate  installment home_ownership  annual_inc  \\\n",
       "0    10500.0    0.1719       375.35           RENT     66000.0   \n",
       "1    25000.0    0.2000       929.09       MORTGAGE    105000.0   \n",
       "2    20000.0    0.2000       529.88       MORTGAGE     56000.0   \n",
       "3    10000.0    0.1640       353.55           RENT     92000.0   \n",
       "4    22000.0    0.1474       520.39       MORTGAGE     52000.0   \n",
       "\n",
       "  verification_status   issue_d loan_status pymnt_plan    dti  ...  \\\n",
       "0     Source Verified  Mar-2019    low_risk          n  27.24  ...   \n",
       "1            Verified  Mar-2019    low_risk          n  20.23  ...   \n",
       "2            Verified  Mar-2019    low_risk          n  24.26  ...   \n",
       "3            Verified  Mar-2019    low_risk          n  31.44  ...   \n",
       "4        Not Verified  Mar-2019    low_risk          n  18.76  ...   \n",
       "\n",
       "   pct_tl_nvr_dlq  percent_bc_gt_75  pub_rec_bankruptcies  tax_liens  \\\n",
       "0            85.7             100.0                   0.0        0.0   \n",
       "1            91.2              50.0                   1.0        0.0   \n",
       "2            66.7              50.0                   0.0        0.0   \n",
       "3           100.0              50.0                   1.0        0.0   \n",
       "4           100.0               0.0                   0.0        0.0   \n",
       "\n",
       "   tot_hi_cred_lim  total_bal_ex_mort total_bc_limit  \\\n",
       "0          65687.0            38199.0         2000.0   \n",
       "1         271427.0            60641.0        41200.0   \n",
       "2          60644.0            45684.0         7500.0   \n",
       "3          99506.0            68784.0        19700.0   \n",
       "4         219750.0            25919.0        27600.0   \n",
       "\n",
       "   total_il_high_credit_limit  hardship_flag  debt_settlement_flag  \n",
       "0                     61987.0              N                     N  \n",
       "1                     49197.0              N                     N  \n",
       "2                     43144.0              N                     N  \n",
       "3                     76506.0              N                     N  \n",
       "4                     20000.0              N                     N  \n",
       "\n",
       "[5 rows x 86 columns]"
      ]
     },
     "execution_count": 83,
     "metadata": {},
     "output_type": "execute_result"
    }
   ],
   "source": [
    "#convert the target columns valusto low_risk and high_risk based on their values\n",
    "\n",
    "x = {'Current': 'low_risk'}\n",
    "df = df.replace(x)\n",
    "\n",
    "\n",
    "x = dict.fromkeys(['Late (31-120 Days)', 'Late (16-30 Days)', 'Default', 'In Grace Period'], 'high_risk')\n",
    "df = df.replace(x)\n",
    "\n",
    "df.reset_index(inplace=True, drop=True)\n",
    "df.head(5)"
   ]
  },
  {
   "cell_type": "markdown",
   "metadata": {},
   "source": [
    "## Split the Data into Training and Testing"
   ]
  },
  {
   "cell_type": "code",
   "execution_count": 84,
   "metadata": {},
   "outputs": [],
   "source": [
    "# Create our features\n",
    "X = df.drop(columns = 'loan_status')\n",
    "\n",
    "# Create our target\n",
    "y = df['loan_status']"
   ]
  },
  {
   "cell_type": "code",
   "execution_count": 85,
   "metadata": {},
   "outputs": [
    {
     "name": "stdout",
     "output_type": "stream",
     "text": [
      "<class 'pandas.core.frame.DataFrame'>\n",
      "RangeIndex: 68817 entries, 0 to 68816\n",
      "Data columns (total 85 columns):\n",
      "loan_amnt                     68817 non-null float64\n",
      "int_rate                      68817 non-null float64\n",
      "installment                   68817 non-null float64\n",
      "home_ownership                68817 non-null object\n",
      "annual_inc                    68817 non-null float64\n",
      "verification_status           68817 non-null object\n",
      "issue_d                       68817 non-null object\n",
      "pymnt_plan                    68817 non-null object\n",
      "dti                           68817 non-null float64\n",
      "delinq_2yrs                   68817 non-null float64\n",
      "inq_last_6mths                68817 non-null float64\n",
      "open_acc                      68817 non-null float64\n",
      "pub_rec                       68817 non-null float64\n",
      "revol_bal                     68817 non-null float64\n",
      "total_acc                     68817 non-null float64\n",
      "initial_list_status           68817 non-null object\n",
      "out_prncp                     68817 non-null float64\n",
      "out_prncp_inv                 68817 non-null float64\n",
      "total_pymnt                   68817 non-null float64\n",
      "total_pymnt_inv               68817 non-null float64\n",
      "total_rec_prncp               68817 non-null float64\n",
      "total_rec_int                 68817 non-null float64\n",
      "total_rec_late_fee            68817 non-null float64\n",
      "recoveries                    68817 non-null float64\n",
      "collection_recovery_fee       68817 non-null float64\n",
      "last_pymnt_amnt               68817 non-null float64\n",
      "next_pymnt_d                  68817 non-null object\n",
      "collections_12_mths_ex_med    68817 non-null float64\n",
      "policy_code                   68817 non-null float64\n",
      "application_type              68817 non-null object\n",
      "acc_now_delinq                68817 non-null float64\n",
      "tot_coll_amt                  68817 non-null float64\n",
      "tot_cur_bal                   68817 non-null float64\n",
      "open_acc_6m                   68817 non-null float64\n",
      "open_act_il                   68817 non-null float64\n",
      "open_il_12m                   68817 non-null float64\n",
      "open_il_24m                   68817 non-null float64\n",
      "mths_since_rcnt_il            68817 non-null float64\n",
      "total_bal_il                  68817 non-null float64\n",
      "il_util                       68817 non-null float64\n",
      "open_rv_12m                   68817 non-null float64\n",
      "open_rv_24m                   68817 non-null float64\n",
      "max_bal_bc                    68817 non-null float64\n",
      "all_util                      68817 non-null float64\n",
      "total_rev_hi_lim              68817 non-null float64\n",
      "inq_fi                        68817 non-null float64\n",
      "total_cu_tl                   68817 non-null float64\n",
      "inq_last_12m                  68817 non-null float64\n",
      "acc_open_past_24mths          68817 non-null float64\n",
      "avg_cur_bal                   68817 non-null float64\n",
      "bc_open_to_buy                68817 non-null float64\n",
      "bc_util                       68817 non-null float64\n",
      "chargeoff_within_12_mths      68817 non-null float64\n",
      "delinq_amnt                   68817 non-null float64\n",
      "mo_sin_old_il_acct            68817 non-null float64\n",
      "mo_sin_old_rev_tl_op          68817 non-null float64\n",
      "mo_sin_rcnt_rev_tl_op         68817 non-null float64\n",
      "mo_sin_rcnt_tl                68817 non-null float64\n",
      "mort_acc                      68817 non-null float64\n",
      "mths_since_recent_bc          68817 non-null float64\n",
      "mths_since_recent_inq         68817 non-null float64\n",
      "num_accts_ever_120_pd         68817 non-null float64\n",
      "num_actv_bc_tl                68817 non-null float64\n",
      "num_actv_rev_tl               68817 non-null float64\n",
      "num_bc_sats                   68817 non-null float64\n",
      "num_bc_tl                     68817 non-null float64\n",
      "num_il_tl                     68817 non-null float64\n",
      "num_op_rev_tl                 68817 non-null float64\n",
      "num_rev_accts                 68817 non-null float64\n",
      "num_rev_tl_bal_gt_0           68817 non-null float64\n",
      "num_sats                      68817 non-null float64\n",
      "num_tl_120dpd_2m              68817 non-null float64\n",
      "num_tl_30dpd                  68817 non-null float64\n",
      "num_tl_90g_dpd_24m            68817 non-null float64\n",
      "num_tl_op_past_12m            68817 non-null float64\n",
      "pct_tl_nvr_dlq                68817 non-null float64\n",
      "percent_bc_gt_75              68817 non-null float64\n",
      "pub_rec_bankruptcies          68817 non-null float64\n",
      "tax_liens                     68817 non-null float64\n",
      "tot_hi_cred_lim               68817 non-null float64\n",
      "total_bal_ex_mort             68817 non-null float64\n",
      "total_bc_limit                68817 non-null float64\n",
      "total_il_high_credit_limit    68817 non-null float64\n",
      "hardship_flag                 68817 non-null object\n",
      "debt_settlement_flag          68817 non-null object\n",
      "dtypes: float64(76), object(9)\n",
      "memory usage: 44.6+ MB\n"
     ]
    }
   ],
   "source": [
    "#objects are strings \n",
    "X.info()"
   ]
  },
  {
   "cell_type": "code",
   "execution_count": 86,
   "metadata": {},
   "outputs": [],
   "source": [
    "X = pd.get_dummies(X)"
   ]
  },
  {
   "cell_type": "code",
   "execution_count": 87,
   "metadata": {},
   "outputs": [
    {
     "name": "stdout",
     "output_type": "stream",
     "text": [
      "<class 'pandas.core.frame.DataFrame'>\n",
      "RangeIndex: 68817 entries, 0 to 68816\n",
      "Data columns (total 95 columns):\n",
      "loan_amnt                              68817 non-null float64\n",
      "int_rate                               68817 non-null float64\n",
      "installment                            68817 non-null float64\n",
      "annual_inc                             68817 non-null float64\n",
      "dti                                    68817 non-null float64\n",
      "delinq_2yrs                            68817 non-null float64\n",
      "inq_last_6mths                         68817 non-null float64\n",
      "open_acc                               68817 non-null float64\n",
      "pub_rec                                68817 non-null float64\n",
      "revol_bal                              68817 non-null float64\n",
      "total_acc                              68817 non-null float64\n",
      "out_prncp                              68817 non-null float64\n",
      "out_prncp_inv                          68817 non-null float64\n",
      "total_pymnt                            68817 non-null float64\n",
      "total_pymnt_inv                        68817 non-null float64\n",
      "total_rec_prncp                        68817 non-null float64\n",
      "total_rec_int                          68817 non-null float64\n",
      "total_rec_late_fee                     68817 non-null float64\n",
      "recoveries                             68817 non-null float64\n",
      "collection_recovery_fee                68817 non-null float64\n",
      "last_pymnt_amnt                        68817 non-null float64\n",
      "collections_12_mths_ex_med             68817 non-null float64\n",
      "policy_code                            68817 non-null float64\n",
      "acc_now_delinq                         68817 non-null float64\n",
      "tot_coll_amt                           68817 non-null float64\n",
      "tot_cur_bal                            68817 non-null float64\n",
      "open_acc_6m                            68817 non-null float64\n",
      "open_act_il                            68817 non-null float64\n",
      "open_il_12m                            68817 non-null float64\n",
      "open_il_24m                            68817 non-null float64\n",
      "mths_since_rcnt_il                     68817 non-null float64\n",
      "total_bal_il                           68817 non-null float64\n",
      "il_util                                68817 non-null float64\n",
      "open_rv_12m                            68817 non-null float64\n",
      "open_rv_24m                            68817 non-null float64\n",
      "max_bal_bc                             68817 non-null float64\n",
      "all_util                               68817 non-null float64\n",
      "total_rev_hi_lim                       68817 non-null float64\n",
      "inq_fi                                 68817 non-null float64\n",
      "total_cu_tl                            68817 non-null float64\n",
      "inq_last_12m                           68817 non-null float64\n",
      "acc_open_past_24mths                   68817 non-null float64\n",
      "avg_cur_bal                            68817 non-null float64\n",
      "bc_open_to_buy                         68817 non-null float64\n",
      "bc_util                                68817 non-null float64\n",
      "chargeoff_within_12_mths               68817 non-null float64\n",
      "delinq_amnt                            68817 non-null float64\n",
      "mo_sin_old_il_acct                     68817 non-null float64\n",
      "mo_sin_old_rev_tl_op                   68817 non-null float64\n",
      "mo_sin_rcnt_rev_tl_op                  68817 non-null float64\n",
      "mo_sin_rcnt_tl                         68817 non-null float64\n",
      "mort_acc                               68817 non-null float64\n",
      "mths_since_recent_bc                   68817 non-null float64\n",
      "mths_since_recent_inq                  68817 non-null float64\n",
      "num_accts_ever_120_pd                  68817 non-null float64\n",
      "num_actv_bc_tl                         68817 non-null float64\n",
      "num_actv_rev_tl                        68817 non-null float64\n",
      "num_bc_sats                            68817 non-null float64\n",
      "num_bc_tl                              68817 non-null float64\n",
      "num_il_tl                              68817 non-null float64\n",
      "num_op_rev_tl                          68817 non-null float64\n",
      "num_rev_accts                          68817 non-null float64\n",
      "num_rev_tl_bal_gt_0                    68817 non-null float64\n",
      "num_sats                               68817 non-null float64\n",
      "num_tl_120dpd_2m                       68817 non-null float64\n",
      "num_tl_30dpd                           68817 non-null float64\n",
      "num_tl_90g_dpd_24m                     68817 non-null float64\n",
      "num_tl_op_past_12m                     68817 non-null float64\n",
      "pct_tl_nvr_dlq                         68817 non-null float64\n",
      "percent_bc_gt_75                       68817 non-null float64\n",
      "pub_rec_bankruptcies                   68817 non-null float64\n",
      "tax_liens                              68817 non-null float64\n",
      "tot_hi_cred_lim                        68817 non-null float64\n",
      "total_bal_ex_mort                      68817 non-null float64\n",
      "total_bc_limit                         68817 non-null float64\n",
      "total_il_high_credit_limit             68817 non-null float64\n",
      "home_ownership_ANY                     68817 non-null uint8\n",
      "home_ownership_MORTGAGE                68817 non-null uint8\n",
      "home_ownership_OWN                     68817 non-null uint8\n",
      "home_ownership_RENT                    68817 non-null uint8\n",
      "verification_status_Not Verified       68817 non-null uint8\n",
      "verification_status_Source Verified    68817 non-null uint8\n",
      "verification_status_Verified           68817 non-null uint8\n",
      "issue_d_Feb-2019                       68817 non-null uint8\n",
      "issue_d_Jan-2019                       68817 non-null uint8\n",
      "issue_d_Mar-2019                       68817 non-null uint8\n",
      "pymnt_plan_n                           68817 non-null uint8\n",
      "initial_list_status_f                  68817 non-null uint8\n",
      "initial_list_status_w                  68817 non-null uint8\n",
      "next_pymnt_d_Apr-2019                  68817 non-null uint8\n",
      "next_pymnt_d_May-2019                  68817 non-null uint8\n",
      "application_type_Individual            68817 non-null uint8\n",
      "application_type_Joint App             68817 non-null uint8\n",
      "hardship_flag_N                        68817 non-null uint8\n",
      "debt_settlement_flag_N                 68817 non-null uint8\n",
      "dtypes: float64(76), uint8(19)\n",
      "memory usage: 41.1 MB\n"
     ]
    }
   ],
   "source": [
    "X.info()"
   ]
  },
  {
   "cell_type": "code",
   "execution_count": 88,
   "metadata": {},
   "outputs": [],
   "source": [
    "y = y.apply(lambda x: 0 if x == 'low_risk' else 1)\n"
   ]
  },
  {
   "cell_type": "code",
   "execution_count": 89,
   "metadata": {},
   "outputs": [
    {
     "data": {
      "text/plain": [
       "0    68470\n",
       "1      347\n",
       "Name: loan_status, dtype: int64"
      ]
     },
     "execution_count": 89,
     "metadata": {},
     "output_type": "execute_result"
    }
   ],
   "source": [
    "y.value_counts()"
   ]
  },
  {
   "cell_type": "code",
   "execution_count": 90,
   "metadata": {},
   "outputs": [
    {
     "data": {
      "text/plain": [
       "(51612, 95)"
      ]
     },
     "execution_count": 90,
     "metadata": {},
     "output_type": "execute_result"
    }
   ],
   "source": [
    "from sklearn.model_selection import train_test_split\n",
    "\n",
    "X_train, X_test, y_train, y_test = train_test_split(X,\n",
    "                                                    y,\n",
    "                                                    random_state=1,\n",
    "                                                       )\n",
    "\n",
    "X_train.shape"
   ]
  },
  {
   "cell_type": "code",
   "execution_count": 91,
   "metadata": {},
   "outputs": [],
   "source": [
    "# Sclae the data \n",
    "from sklearn.preprocessing import StandardScaler\n",
    "# Create the StandardScaler instance\n",
    "scaler = StandardScaler()\n",
    "\n",
    "# Fit the Standard Scaler with the training data\n",
    "X_scaler = scaler.fit(X_train)\n",
    "\n",
    "# Scale the training data\n",
    "X_train_scaled = X_scaler.transform(X_train)\n",
    "X_test_scaled = X_scaler.transform(X_test)"
   ]
  },
  {
   "cell_type": "markdown",
   "metadata": {},
   "source": [
    "# Ensemble Learners\n",
    "\n",
    "In this section, you will compare two ensemble algorithms to determine which algorithm results in the best performance. You will train a Balanced Random Forest Classifier and an Easy Ensemble AdaBoost classifier . For each algorithm, be sure to complete the folliowing steps:\n",
    "\n",
    "1. Train the model using the training data. \n",
    "2. Calculate the balanced accuracy score from sklearn.metrics.\n",
    "3. Print the confusion matrix from sklearn.metrics.\n",
    "4. Generate a classication report using the `imbalanced_classification_report` from imbalanced-learn.\n",
    "5. For the Balanced Random Forest Classifier onely, print the feature importance sorted in descending order (most important feature to least important) along with the feature score\n",
    "\n",
    "Note: Use a random state of 1 for each algorithm to ensure consistency between tests"
   ]
  },
  {
   "cell_type": "markdown",
   "metadata": {},
   "source": [
    "## Balanced Random Forest Classifier"
   ]
  },
  {
   "cell_type": "code",
   "execution_count": 92,
   "metadata": {},
   "outputs": [],
   "source": [
    "# Resample the training data with the RandomOversampler\n",
    "from imblearn.ensemble import BalancedRandomForestClassifier \n",
    "from sklearn.metrics import balanced_accuracy_score\n",
    "from imblearn.metrics import classification_report_imbalanced\n",
    "from sklearn.preprocessing import StandardScaler\n",
    "\n",
    "brf_model = BalancedRandomForestClassifier(n_estimators =100, random_state=1)\n"
   ]
  },
  {
   "cell_type": "code",
   "execution_count": 93,
   "metadata": {},
   "outputs": [],
   "source": [
    "#fit the model\n",
    "\n",
    "brf_model = brf_model.fit(X_train_scaled, y_train)"
   ]
  },
  {
   "cell_type": "code",
   "execution_count": 94,
   "metadata": {},
   "outputs": [],
   "source": [
    "#predictions \n",
    "\n",
    "predictions = brf_model.predict(X_test_scaled)"
   ]
  },
  {
   "cell_type": "code",
   "execution_count": 108,
   "metadata": {},
   "outputs": [
    {
     "data": {
      "text/plain": [
       "0.7691539353888617"
      ]
     },
     "execution_count": 108,
     "metadata": {},
     "output_type": "execute_result"
    }
   ],
   "source": [
    "# Calculated the balanced accuracy score\n",
    "balanced_accuracy_score(y_test, predictions)"
   ]
  },
  {
   "cell_type": "code",
   "execution_count": 109,
   "metadata": {},
   "outputs": [
    {
     "data": {
      "text/plain": [
       "array([[14965,  2139],\n",
       "       [   34,    67]], dtype=int64)"
      ]
     },
     "execution_count": 109,
     "metadata": {},
     "output_type": "execute_result"
    }
   ],
   "source": [
    "# Display the confusion matrix\n",
    "confusion_matrix(y_test, predictions)\n",
    "# cm_df = pd.DataFrame(\n",
    "#     cm, index=[\"Actual 0\", \"Actual 1\"], columns=[\"Predicted 0\", \"Predicted 1\"]\n",
    "# )\n",
    "\n"
   ]
  },
  {
   "cell_type": "code",
   "execution_count": 110,
   "metadata": {},
   "outputs": [
    {
     "name": "stdout",
     "output_type": "stream",
     "text": [
      "Low risk is scored as 0 & High Risk is assigned value 1\n",
      "                   pre       rec       spe        f1       geo       iba       sup\n",
      "\n",
      "          0       1.00      0.87      0.66      0.93      0.76      0.59     17104\n",
      "          1       0.03      0.66      0.87      0.06      0.76      0.57       101\n",
      "\n",
      "avg / total       0.99      0.87      0.66      0.93      0.76      0.59     17205\n",
      "\n"
     ]
    }
   ],
   "source": [
    "# Print the imbalanced classification report\n",
    "# Displaying results\n",
    "# print(\"Confusion Matrix\")\n",
    "# display(cm_df)\n",
    "# print(f\"Accuracy Score : {bs}\")\n",
    "# print(\"Classification Report\")\n",
    "print(f\"Low risk is scored as 0 & High Risk is assigned value 1\")\n",
    "print(classification_report_imbalanced(y_test, predictions))"
   ]
  },
  {
   "cell_type": "code",
   "execution_count": 111,
   "metadata": {},
   "outputs": [],
   "source": [
    "# List the features sorted in descending order by feature importance\n",
    "importances = brf_model.feature_importances_"
   ]
  },
  {
   "cell_type": "code",
   "execution_count": 112,
   "metadata": {},
   "outputs": [
    {
     "data": {
      "text/plain": [
       "[(0.08444886105019118, 'total_rec_prncp'),\n",
       " (0.06276550792440583, 'total_pymnt_inv'),\n",
       " (0.0583991446922582, 'total_rec_int'),\n",
       " (0.058074397590724525, 'last_pymnt_amnt'),\n",
       " (0.05589516962890926, 'total_pymnt'),\n",
       " (0.0345764932940283, 'int_rate'),\n",
       " (0.02173197237228757, 'issue_d_Jan-2019'),\n",
       " (0.021665114995042582, 'installment'),\n",
       " (0.016500213823029363, 'il_util'),\n",
       " (0.016317942844767074, 'dti')]"
      ]
     },
     "execution_count": 112,
     "metadata": {},
     "output_type": "execute_result"
    }
   ],
   "source": [
    "# List the top 10 most important features\n",
    "#zip zips up left array and right array X.columns and brf_model feat import \n",
    "importances_sorted = sorted(zip(brf_model.feature_importances_, X.columns), reverse=True)\n",
    "importances_sorted[:10]"
   ]
  },
  {
   "cell_type": "code",
   "execution_count": null,
   "metadata": {},
   "outputs": [],
   "source": []
  },
  {
   "cell_type": "markdown",
   "metadata": {},
   "source": [
    "## Easy Ensemble AdaBoost Classifier "
   ]
  },
  {
   "cell_type": "code",
   "execution_count": 103,
   "metadata": {},
   "outputs": [],
   "source": [
    "# Train the Classifier\n",
    "from imblearn.ensemble import EasyEnsembleClassifier\n",
    "\n",
    "ada_model = EasyEnsembleClassifier(n_estimators =100, random_state=1)\n",
    "\n",
    "\n",
    "#fit model\n",
    "ada_model.fit(X_train_scaled, y_train)\n",
    "\n",
    "#predictions \n",
    "\n",
    "predictions_ada = ada_model.predict(X_test_scaled)"
   ]
  },
  {
   "cell_type": "code",
   "execution_count": 105,
   "metadata": {},
   "outputs": [
    {
     "data": {
      "text/plain": [
       "0.931601605553446"
      ]
     },
     "execution_count": 105,
     "metadata": {},
     "output_type": "execute_result"
    }
   ],
   "source": [
    "# Calculated the balanced accuracy score\n",
    "# Calculated the balanced accuracy score\n",
    "balanced_accuracy_score(y_test, predictions_ada)"
   ]
  },
  {
   "cell_type": "code",
   "execution_count": 106,
   "metadata": {},
   "outputs": [
    {
     "data": {
      "text/plain": [
       "array([[16119,   985],\n",
       "       [    8,    93]], dtype=int64)"
      ]
     },
     "execution_count": 106,
     "metadata": {},
     "output_type": "execute_result"
    }
   ],
   "source": [
    "# Display the confusion matrix\n",
    "# Calculated the balanced accuracy score\n",
    "# bs = balanced_accuracy_score(y_test, predictions_ada)\n",
    "\n",
    "\n",
    "# Display the confusion matrix\n",
    "confusion_matrix(y_test, predictions_ada)\n"
   ]
  },
  {
   "cell_type": "code",
   "execution_count": 113,
   "metadata": {},
   "outputs": [
    {
     "name": "stdout",
     "output_type": "stream",
     "text": [
      "Classification Report\n",
      "                   pre       rec       spe        f1       geo       iba       sup\n",
      "\n",
      "          0       1.00      0.94      0.92      0.97      0.93      0.87     17104\n",
      "          1       0.09      0.92      0.94      0.16      0.93      0.87       101\n",
      "\n",
      "avg / total       0.99      0.94      0.92      0.97      0.93      0.87     17205\n",
      "\n"
     ]
    }
   ],
   "source": [
    "# Display the confusion matrix\n",
    "# print(\"Confusion Matrix\")\n",
    "# display(cm_df)\n",
    "# print(f\"Accuracy Score : {bs}\")\n",
    "print(\"Classification Report\")\n",
    "print(classification_report_imbalanced(y_test, predictions_ada))"
   ]
  },
  {
   "cell_type": "markdown",
   "metadata": {},
   "source": [
    "Best balanced Score accuracy: Easy Adaboost is better than RandomForest\n",
    "    Best Recall Score: Easy Adaboost has higher recall\n",
    "        Best Geometric Mean Score: Easy Adaboost has higher Geometric mean"
   ]
  },
  {
   "cell_type": "code",
   "execution_count": null,
   "metadata": {},
   "outputs": [],
   "source": []
  },
  {
   "cell_type": "code",
   "execution_count": null,
   "metadata": {},
   "outputs": [],
   "source": []
  },
  {
   "cell_type": "code",
   "execution_count": null,
   "metadata": {},
   "outputs": [],
   "source": []
  }
 ],
 "metadata": {
  "kernelspec": {
   "display_name": "Python 3",
   "language": "python",
   "name": "python3"
  },
  "language_info": {
   "codemirror_mode": {
    "name": "ipython",
    "version": 3
   },
   "file_extension": ".py",
   "mimetype": "text/x-python",
   "name": "python",
   "nbconvert_exporter": "python",
   "pygments_lexer": "ipython3",
   "version": "3.7.3"
  }
 },
 "nbformat": 4,
 "nbformat_minor": 2
}
